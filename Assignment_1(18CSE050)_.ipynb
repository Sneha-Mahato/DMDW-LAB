{
  "nbformat": 4,
  "nbformat_minor": 0,
  "metadata": {
    "colab": {
      "name": "Assignment 1 .ipynb",
      "provenance": [],
      "authorship_tag": "ABX9TyM9rHurt3O2Ya3T4vzBTlOE",
      "include_colab_link": true
    },
    "kernelspec": {
      "name": "python3",
      "display_name": "Python 3"
    }
  },
  "cells": [
    {
      "cell_type": "markdown",
      "metadata": {
        "id": "view-in-github",
        "colab_type": "text"
      },
      "source": [
        "<a href=\"https://colab.research.google.com/github/Sneha-Mahato/DMDW-LAB/blob/main/Assignment_1(18CSE050)_.ipynb\" target=\"_parent\"><img src=\"https://colab.research.google.com/assets/colab-badge.svg\" alt=\"Open In Colab\"/></a>"
      ]
    },
    {
      "cell_type": "markdown",
      "metadata": {
        "id": "dVlW4Up_g3CB"
      },
      "source": [
        "# ASSIGNMENT-1\n",
        "# Find the Mean, Median, Mode, Standard Deviation and Variance\n",
        "# a)with using library\n",
        "# b)without using library "
      ]
    },
    {
      "cell_type": "code",
      "metadata": {
        "id": "De2-NFOQd2Ae"
      },
      "source": [
        "data = [98.2,76.3,36.5,25.6,98.2,15.0,18.9,32.7]"
      ],
      "execution_count": 20,
      "outputs": []
    },
    {
      "cell_type": "code",
      "metadata": {
        "id": "DubLgw8re4zu"
      },
      "source": [
        "import numpy as np\n",
        "from scipy import stats"
      ],
      "execution_count": 14,
      "outputs": []
    },
    {
      "cell_type": "code",
      "metadata": {
        "colab": {
          "base_uri": "https://localhost:8080/"
        },
        "id": "K77EZvirfHmn",
        "outputId": "62bbc511-40af-4932-b654-43b361960f80"
      },
      "source": [
        "#MEAN\n",
        "\n",
        "mean_with = np.mean(data)\n",
        "\n",
        "print(\"Mean =\",mean_with)"
      ],
      "execution_count": 31,
      "outputs": [
        {
          "output_type": "stream",
          "text": [
            "Mean = 50.175\n"
          ],
          "name": "stdout"
        }
      ]
    },
    {
      "cell_type": "code",
      "metadata": {
        "colab": {
          "base_uri": "https://localhost:8080/"
        },
        "id": "f9YNx3tbfOpR",
        "outputId": "2afd0f4c-9550-4e30-cf3c-e41d6b3095f5"
      },
      "source": [
        "#MEDIAN\n",
        "\n",
        "median_with = np.median(data)\n",
        "\n",
        "print(\"Median =\",median_with)"
      ],
      "execution_count": 22,
      "outputs": [
        {
          "output_type": "stream",
          "text": [
            "Median = 34.6\n"
          ],
          "name": "stdout"
        }
      ]
    },
    {
      "cell_type": "code",
      "metadata": {
        "colab": {
          "base_uri": "https://localhost:8080/"
        },
        "id": "UJj3S2C9fVTr",
        "outputId": "e600ba51-6125-4a6b-acf4-6f13903555b7"
      },
      "source": [
        "#MODE\n",
        "\n",
        "mode_with = stats.mode(data)\n",
        "\n",
        "print(\"Mode =\",mode_with)"
      ],
      "execution_count": 23,
      "outputs": [
        {
          "output_type": "stream",
          "text": [
            "Mode = ModeResult(mode=array([98.2]), count=array([2]))\n"
          ],
          "name": "stdout"
        }
      ]
    },
    {
      "cell_type": "code",
      "metadata": {
        "colab": {
          "base_uri": "https://localhost:8080/"
        },
        "id": "rU8mAbcFfcJF",
        "outputId": "f9c10847-dda6-4778-d88d-984a79a14bb1"
      },
      "source": [
        "#STANDARD DEVIATION\n",
        "\n",
        "std_with = np.std(data)\n",
        "\n",
        "print(\"Standard Deviation =\",std_with)"
      ],
      "execution_count": 24,
      "outputs": [
        {
          "output_type": "stream",
          "text": [
            "Standard Deviation = 32.800600223166654\n"
          ],
          "name": "stdout"
        }
      ]
    },
    {
      "cell_type": "code",
      "metadata": {
        "colab": {
          "base_uri": "https://localhost:8080/"
        },
        "id": "iQ2j1CCYfkmO",
        "outputId": "dc0e80ee-daad-4277-cb0f-a8a45d617f1c"
      },
      "source": [
        "#VARIANCE\n",
        "\n",
        "var_with = np.var(data)\n",
        "\n",
        "print(\"Variance =\",var_with)"
      ],
      "execution_count": 25,
      "outputs": [
        {
          "output_type": "stream",
          "text": [
            "Variance = 1075.8793750000002\n"
          ],
          "name": "stdout"
        }
      ]
    },
    {
      "cell_type": "code",
      "metadata": {
        "colab": {
          "base_uri": "https://localhost:8080/"
        },
        "id": "ulYPZLuegHQd",
        "outputId": "c907f8b1-e22c-4655-a204-5ef24e396404"
      },
      "source": [
        "#MEAN WITHOUT USING LIBRARY\n",
        "\n",
        "sum_of_data = sum(data)\n",
        "n = len(data)\n",
        "mean_wo = sum_of_data/n\n",
        "\n",
        "print(\"Mean =\",mean_wo)"
      ],
      "execution_count": 26,
      "outputs": [
        {
          "output_type": "stream",
          "text": [
            "Mean = 50.175\n"
          ],
          "name": "stdout"
        }
      ]
    },
    {
      "cell_type": "code",
      "metadata": {
        "colab": {
          "base_uri": "https://localhost:8080/"
        },
        "id": "Dbejj-mrgO1S",
        "outputId": "efb82d67-f9f8-4e70-f265-a0377846786f"
      },
      "source": [
        "#MEDIAN WITHOUT USING LIBRARY\n",
        "\n",
        "data.sort()\n",
        "n = len(data)\n",
        "if n%2 == 0:\n",
        "    median_wo = (data[n//2]+data[n//2 - 1])/2\n",
        "else :\n",
        "    median_wo = data[n//2]\n",
        "\n",
        "print(\"Median =\",median_wo)"
      ],
      "execution_count": 27,
      "outputs": [
        {
          "output_type": "stream",
          "text": [
            "Median = 34.6\n"
          ],
          "name": "stdout"
        }
      ]
    },
    {
      "cell_type": "code",
      "metadata": {
        "colab": {
          "base_uri": "https://localhost:8080/"
        },
        "id": "IVmt3CfDgVU_",
        "outputId": "58fc584f-3ff4-4488-ceb8-6391380db874"
      },
      "source": [
        "#MODE WITHOUT USING LIBRARY\n",
        "\n",
        "max = 0\n",
        "for i in data: \n",
        "    if data.count(i) > max :\n",
        "        max = i\n",
        "mode_wo = max\n",
        "\n",
        "print(\"Mode =\",mode_wo)"
      ],
      "execution_count": 34,
      "outputs": [
        {
          "output_type": "stream",
          "text": [
            "Mode = 15.0\n"
          ],
          "name": "stdout"
        }
      ]
    },
    {
      "cell_type": "code",
      "metadata": {
        "colab": {
          "base_uri": "https://localhost:8080/"
        },
        "id": "mxJPHHjpgaKI",
        "outputId": "cfd782f0-0730-4c2c-ace0-e5b80c3668ba"
      },
      "source": [
        "#STANDARD DEVIATION WITHOUT USING LIBRARY\n",
        "\n",
        "sum_of_data = sum(data)\n",
        "n = len(data)\n",
        "mean_wo = sum_of_data/n\n",
        "\n",
        "#sum of squares for each i-xi\n",
        "sum_of_squares = 0\n",
        "for i in data :\n",
        "    sum_of_squares += (i - mean_wo)**2\n",
        "    \n",
        "std_wo = (sum_of_squares/(n-1))**(1/2)\n",
        "\n",
        "print(\"Standard Deviation =\",std_wo)"
      ],
      "execution_count": 33,
      "outputs": [
        {
          "output_type": "stream",
          "text": [
            "Standard Deviation = 35.06531660446585\n"
          ],
          "name": "stdout"
        }
      ]
    },
    {
      "cell_type": "code",
      "metadata": {
        "colab": {
          "base_uri": "https://localhost:8080/"
        },
        "id": "M_9PJCBmgjFr",
        "outputId": "17c45674-8b3c-4283-9b53-cb65676ab2eb"
      },
      "source": [
        "#VARIANCE WITHOUT USING LIBRARY\n",
        "\n",
        "sum_of_data = sum(data)\n",
        "n = len(data)\n",
        "mean_wo = sum_of_data/n\n",
        "\n",
        "#sum of squares for each i-xi\n",
        "sum_of_squares = 0\n",
        "for i in data :\n",
        "    sum_of_squares += (i - mean_wo)**2\n",
        "    \n",
        "std_wo = (sum_of_squares/(n-1))**(1/2)\n",
        "\n",
        "var_wo = std_wo**2\n",
        "\n",
        "print(\"Variance =\",var_wo)"
      ],
      "execution_count": 32,
      "outputs": [
        {
          "output_type": "stream",
          "text": [
            "Variance = 1229.5764285714283\n"
          ],
          "name": "stdout"
        }
      ]
    }
  ]
}